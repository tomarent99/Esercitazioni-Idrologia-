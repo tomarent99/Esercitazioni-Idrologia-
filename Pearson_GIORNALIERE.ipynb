{
 "cells": [
  {
   "cell_type": "markdown",
   "id": "823bee1f-d0b1-4061-9609-6a8edbc9d615",
   "metadata": {},
   "source": [
    "# Test di Pearson - Dati giornalieri"
   ]
  },
  {
   "cell_type": "markdown",
   "id": "f67837f0-30b8-46e9-819d-ed068b213c07",
   "metadata": {},
   "source": [
    "Di seguito viene utilizzato il test di Pearson, per scegliere i migliori coefficienti a e b della distribuzione di Gumbel, ricavati da: metodo dei momenti, minimi quadrati e massima versimiglianza. \n",
    "\n",
    "Il test di Pearson è un test non parametrico che applica la distribuzione del Chi quadro ai dati per scegliere la coppia di parametri migliore per ogni durata di precipitazione."
   ]
  },
  {
   "cell_type": "code",
   "execution_count": 19,
   "id": "79cf3b57-f23d-42e5-93a4-a00ff0d2feb7",
   "metadata": {},
   "outputs": [
    {
     "data": {
      "text/plain": [
       "'C:\\\\Users\\\\Tom\\\\1A_Idrologia\\\\dati\\\\xz. Esercitazione1'"
      ]
     },
     "execution_count": 19,
     "metadata": {},
     "output_type": "execute_result"
    }
   ],
   "source": [
    "import os\n",
    "import math\n",
    "from pandas import *\n",
    "import pandas as pd\n",
    "from datetime import datetime\n",
    "%matplotlib inline \n",
    "import matplotlib.pyplot as plt\n",
    "from statsmodels.distributions.empirical_distribution import ECDF\n",
    "from scipy.stats import norm\n",
    "from scipy.stats import genextreme,gumbel_r\n",
    "from numpy import linspace\n",
    "from pylab import plot,show,hist,figure,title\n",
    "from my_functions import*\n",
    "os.getcwd()"
   ]
  },
  {
   "cell_type": "code",
   "execution_count": 20,
   "id": "4ed7ca00-2cca-42fd-b7f5-99f2b50ab8a5",
   "metadata": {},
   "outputs": [],
   "source": [
    "data=leggi_giornaliere('MORI_massimi di precipitazione.xls')\n",
    "#data"
   ]
  },
  {
   "cell_type": "code",
   "execution_count": 21,
   "id": "2624eec1-56a4-48d6-bdca-6de9f8e8600c",
   "metadata": {},
   "outputs": [],
   "source": [
    "ab_m=pd.read_pickle(\"ab_m\")\n",
    "ab_mq=pd.read_pickle(\"ab_mq\")\n",
    "ab_ml=pd.read_pickle(\"ab_ml\")"
   ]
  },
  {
   "cell_type": "code",
   "execution_count": 22,
   "id": "e6af8e3b-b942-4800-b746-aabce1d76522",
   "metadata": {},
   "outputs": [
    {
     "data": {
      "text/html": [
       "<div>\n",
       "<style scoped>\n",
       "    .dataframe tbody tr th:only-of-type {\n",
       "        vertical-align: middle;\n",
       "    }\n",
       "\n",
       "    .dataframe tbody tr th {\n",
       "        vertical-align: top;\n",
       "    }\n",
       "\n",
       "    .dataframe thead th {\n",
       "        text-align: right;\n",
       "    }\n",
       "</style>\n",
       "<table border=\"1\" class=\"dataframe\">\n",
       "  <thead>\n",
       "    <tr style=\"text-align: right;\">\n",
       "      <th></th>\n",
       "      <th>M</th>\n",
       "      <th>MQ</th>\n",
       "      <th>ML</th>\n",
       "    </tr>\n",
       "  </thead>\n",
       "  <tbody>\n",
       "    <tr>\n",
       "      <th>1 giorno</th>\n",
       "      <td>1.517241</td>\n",
       "      <td>1.517241</td>\n",
       "      <td>2.896552</td>\n",
       "    </tr>\n",
       "    <tr>\n",
       "      <th>2 giorni</th>\n",
       "      <td>4.275862</td>\n",
       "      <td>4.275862</td>\n",
       "      <td>4.275862</td>\n",
       "    </tr>\n",
       "    <tr>\n",
       "      <th>3 giorni</th>\n",
       "      <td>4.620690</td>\n",
       "      <td>1.172414</td>\n",
       "      <td>4.620690</td>\n",
       "    </tr>\n",
       "    <tr>\n",
       "      <th>4 giorni</th>\n",
       "      <td>1.862069</td>\n",
       "      <td>1.517241</td>\n",
       "      <td>1.172414</td>\n",
       "    </tr>\n",
       "    <tr>\n",
       "      <th>5 giorni</th>\n",
       "      <td>0.482759</td>\n",
       "      <td>1.517241</td>\n",
       "      <td>0.482759</td>\n",
       "    </tr>\n",
       "  </tbody>\n",
       "</table>\n",
       "</div>"
      ],
      "text/plain": [
       "                 M        MQ        ML\n",
       "1 giorno  1.517241  1.517241  2.896552\n",
       "2 giorni  4.275862  4.275862  4.275862\n",
       "3 giorni  4.620690  1.172414  4.620690\n",
       "4 giorni  1.862069  1.517241  1.172414\n",
       "5 giorni  0.482759  1.517241  0.482759"
      ]
     },
     "execution_count": 22,
     "metadata": {},
     "output_type": "execute_result"
    }
   ],
   "source": [
    "a=[]\n",
    "for h in data.columns:\n",
    "    a=a+[[X2(data,ab_m,h,0.2),X2(data,ab_mq,h,0.2),X2(data,ab_ml,h,0.2)]]\n",
    "\n",
    "pd.DataFrame(a,index=[\"1 giorno\",\"2 giorni\", \"3 giorni\",\"4 giorni\",\"5 giorni\"],columns=[\"M\",\"MQ\",\"ML\"])"
   ]
  },
  {
   "cell_type": "code",
   "execution_count": 23,
   "id": "08d96677-1dbf-4454-b654-9e05aef527d2",
   "metadata": {},
   "outputs": [
    {
     "data": {
      "text/html": [
       "<div>\n",
       "<style scoped>\n",
       "    .dataframe tbody tr th:only-of-type {\n",
       "        vertical-align: middle;\n",
       "    }\n",
       "\n",
       "    .dataframe tbody tr th {\n",
       "        vertical-align: top;\n",
       "    }\n",
       "\n",
       "    .dataframe thead th {\n",
       "        text-align: right;\n",
       "    }\n",
       "</style>\n",
       "<table border=\"1\" class=\"dataframe\">\n",
       "  <thead>\n",
       "    <tr style=\"text-align: right;\">\n",
       "      <th></th>\n",
       "      <th>1 giorno</th>\n",
       "      <th>2 giorni</th>\n",
       "      <th>3 giorni</th>\n",
       "      <th>4 giorni</th>\n",
       "      <th>5 giorni</th>\n",
       "    </tr>\n",
       "  </thead>\n",
       "  <tbody>\n",
       "    <tr>\n",
       "      <th>a</th>\n",
       "      <td>58.305148</td>\n",
       "      <td>80.471032</td>\n",
       "      <td>90.750149</td>\n",
       "      <td>103.428785</td>\n",
       "      <td>110.602875</td>\n",
       "    </tr>\n",
       "    <tr>\n",
       "      <th>b</th>\n",
       "      <td>15.439798</td>\n",
       "      <td>19.728481</td>\n",
       "      <td>20.115120</td>\n",
       "      <td>27.417951</td>\n",
       "      <td>27.582867</td>\n",
       "    </tr>\n",
       "  </tbody>\n",
       "</table>\n",
       "</div>"
      ],
      "text/plain": [
       "    1 giorno   2 giorni   3 giorni    4 giorni    5 giorni\n",
       "a  58.305148  80.471032  90.750149  103.428785  110.602875\n",
       "b  15.439798  19.728481  20.115120   27.417951   27.582867"
      ]
     },
     "execution_count": 23,
     "metadata": {},
     "output_type": "execute_result"
    }
   ],
   "source": [
    "best=DataFrame([ab_m[\"1 giorno\"],\n",
    "                ab_m[\"2 giorni\"],\n",
    "                ab_mq[\"3 giorni\"],\n",
    "                ab_ml[\"4 giorni\"],ab_m[\"5 giorni\"]]).T\n",
    "                  \n",
    "best"
   ]
  },
  {
   "cell_type": "code",
   "execution_count": 24,
   "id": "71c9c5f9-9972-4493-838c-9bafefe94184",
   "metadata": {},
   "outputs": [],
   "source": [
    "best.to_pickle(\"best_param\")"
   ]
  },
  {
   "cell_type": "code",
   "execution_count": 25,
   "id": "ffe1615d-2f97-40fc-82d3-2027ba4e78ee",
   "metadata": {},
   "outputs": [],
   "source": [
    "def gumbel(x,abs_d,col):\n",
    "    return np.exp(-np.exp(-(x-abs_d[col][\"a\"])/abs_d[col][\"b\"]))\n",
    "t_rain=np.linspace(data.min()[0],data.max()[3],100)"
   ]
  },
  {
   "cell_type": "code",
   "execution_count": 26,
   "id": "1c3d4efa-97bb-46f3-adfd-609a7d8b4b7e",
   "metadata": {},
   "outputs": [
    {
     "data": {
      "text/html": [
       "<div>\n",
       "<style scoped>\n",
       "    .dataframe tbody tr th:only-of-type {\n",
       "        vertical-align: middle;\n",
       "    }\n",
       "\n",
       "    .dataframe tbody tr th {\n",
       "        vertical-align: top;\n",
       "    }\n",
       "\n",
       "    .dataframe thead th {\n",
       "        text-align: right;\n",
       "    }\n",
       "</style>\n",
       "<table border=\"1\" class=\"dataframe\">\n",
       "  <thead>\n",
       "    <tr style=\"text-align: right;\">\n",
       "      <th></th>\n",
       "      <th>1 giorno</th>\n",
       "      <th>2 giorni</th>\n",
       "      <th>3 giorni</th>\n",
       "      <th>4 giorni</th>\n",
       "      <th>5 giorni</th>\n",
       "    </tr>\n",
       "  </thead>\n",
       "  <tbody>\n",
       "    <tr>\n",
       "      <th>33.000000</th>\n",
       "      <td>0.005801</td>\n",
       "      <td>0.000015</td>\n",
       "      <td>2.151864e-08</td>\n",
       "      <td>0.000002</td>\n",
       "      <td>5.774460e-08</td>\n",
       "    </tr>\n",
       "    <tr>\n",
       "      <th>34.678788</th>\n",
       "      <td>0.009861</td>\n",
       "      <td>0.000038</td>\n",
       "      <td>8.845768e-08</td>\n",
       "      <td>0.000005</td>\n",
       "      <td>1.545011e-07</td>\n",
       "    </tr>\n",
       "    <tr>\n",
       "      <th>36.357576</th>\n",
       "      <td>0.015870</td>\n",
       "      <td>0.000086</td>\n",
       "      <td>3.247124e-07</td>\n",
       "      <td>0.000010</td>\n",
       "      <td>3.900438e-07</td>\n",
       "    </tr>\n",
       "    <tr>\n",
       "      <th>38.036364</th>\n",
       "      <td>0.024321</td>\n",
       "      <td>0.000185</td>\n",
       "      <td>1.074091e-06</td>\n",
       "      <td>0.000019</td>\n",
       "      <td>9.322813e-07</td>\n",
       "    </tr>\n",
       "    <tr>\n",
       "      <th>39.715152</th>\n",
       "      <td>0.035667</td>\n",
       "      <td>0.000374</td>\n",
       "      <td>3.228365e-06</td>\n",
       "      <td>0.000037</td>\n",
       "      <td>2.116580e-06</td>\n",
       "    </tr>\n",
       "    <tr>\n",
       "      <th>...</th>\n",
       "      <td>...</td>\n",
       "      <td>...</td>\n",
       "      <td>...</td>\n",
       "      <td>...</td>\n",
       "      <td>...</td>\n",
       "    </tr>\n",
       "    <tr>\n",
       "      <th>192.484848</th>\n",
       "      <td>0.999832</td>\n",
       "      <td>0.996585</td>\n",
       "      <td>9.936595e-01</td>\n",
       "      <td>0.961897</td>\n",
       "      <td>9.499213e-01</td>\n",
       "    </tr>\n",
       "    <tr>\n",
       "      <th>194.163636</th>\n",
       "      <td>0.999849</td>\n",
       "      <td>0.996863</td>\n",
       "      <td>9.941657e-01</td>\n",
       "      <td>0.964119</td>\n",
       "      <td>9.528074e-01</td>\n",
       "    </tr>\n",
       "    <tr>\n",
       "      <th>195.842424</th>\n",
       "      <td>0.999865</td>\n",
       "      <td>0.997118</td>\n",
       "      <td>9.946316e-01</td>\n",
       "      <td>0.966213</td>\n",
       "      <td>9.555311e-01</td>\n",
       "    </tr>\n",
       "    <tr>\n",
       "      <th>197.521212</th>\n",
       "      <td>0.999879</td>\n",
       "      <td>0.997353</td>\n",
       "      <td>9.950604e-01</td>\n",
       "      <td>0.968188</td>\n",
       "      <td>9.581011e-01</td>\n",
       "    </tr>\n",
       "    <tr>\n",
       "      <th>199.200000</th>\n",
       "      <td>0.999891</td>\n",
       "      <td>0.997569</td>\n",
       "      <td>9.954550e-01</td>\n",
       "      <td>0.970049</td>\n",
       "      <td>9.605257e-01</td>\n",
       "    </tr>\n",
       "  </tbody>\n",
       "</table>\n",
       "<p>100 rows × 5 columns</p>\n",
       "</div>"
      ],
      "text/plain": [
       "            1 giorno  2 giorni      3 giorni  4 giorni      5 giorni\n",
       "33.000000   0.005801  0.000015  2.151864e-08  0.000002  5.774460e-08\n",
       "34.678788   0.009861  0.000038  8.845768e-08  0.000005  1.545011e-07\n",
       "36.357576   0.015870  0.000086  3.247124e-07  0.000010  3.900438e-07\n",
       "38.036364   0.024321  0.000185  1.074091e-06  0.000019  9.322813e-07\n",
       "39.715152   0.035667  0.000374  3.228365e-06  0.000037  2.116580e-06\n",
       "...              ...       ...           ...       ...           ...\n",
       "192.484848  0.999832  0.996585  9.936595e-01  0.961897  9.499213e-01\n",
       "194.163636  0.999849  0.996863  9.941657e-01  0.964119  9.528074e-01\n",
       "195.842424  0.999865  0.997118  9.946316e-01  0.966213  9.555311e-01\n",
       "197.521212  0.999879  0.997353  9.950604e-01  0.968188  9.581011e-01\n",
       "199.200000  0.999891  0.997569  9.954550e-01  0.970049  9.605257e-01\n",
       "\n",
       "[100 rows x 5 columns]"
      ]
     },
     "execution_count": 26,
     "metadata": {},
     "output_type": "execute_result"
    }
   ],
   "source": [
    "gb=pd.DataFrame([gumbel(t_rain,best,\"1 giorno\"),\n",
    "                 gumbel(t_rain,best,\"2 giorni\"),\n",
    "                 gumbel(t_rain,best,\"3 giorni\"),\n",
    "                 gumbel(t_rain,best,\"4 giorni\"),gumbel(t_rain,best,\"5 giorni\")]).T\n",
    "gb.index=t_rain\n",
    "gb.columns=[\"1 giorno\",\"2 giorni\",\"3 giorni\",\"4 giorni\",\"5 giorni\"]\n",
    "gb[-5:]"
   ]
  },
  {
   "cell_type": "code",
   "execution_count": 27,
   "id": "30b111b3-c7b7-41e3-91ad-7c0bc4f645f7",
   "metadata": {},
   "outputs": [
    {
     "data": {
      "text/plain": [
       "([<matplotlib.lines.Line2D at 0x1ec6d0647c8>],\n",
       " [<matplotlib.lines.Line2D at 0x1ec6d01f548>],\n",
       " [<matplotlib.lines.Line2D at 0x1ec6d09c308>],\n",
       " [<matplotlib.lines.Line2D at 0x1ec6d09c948>],\n",
       " [<matplotlib.lines.Line2D at 0x1ec6d09cf48>])"
      ]
     },
     "execution_count": 27,
     "metadata": {},
     "output_type": "execute_result"
    },
    {
     "data": {
      "image/png": "[encoded data removed]",
      "text/plain": [
       "<Figure size 432x288 with 1 Axes>"
      ]
     },
     "metadata": {
      "needs_background": "light"
     },
     "output_type": "display_data"
    }
   ],
   "source": [
    "plot_pearson_giornaliere(data, gb)"
   ]
  },
  {
   "cell_type": "code",
   "execution_count": null,
   "id": "cdaaa004-dcef-427e-9499-cbcc632488d3",
   "metadata": {},
   "outputs": [],
   "source": []
  }
 ],
 "metadata": {
  "kernelspec": {
   "display_name": "Python 3 (ipykernel)",
   "language": "python",
   "name": "python3"
  },
  "language_info": {
   "codemirror_mode": {
    "name": "ipython",
    "version": 3
   },
   "file_extension": ".py",
   "mimetype": "text/x-python",
   "name": "python",
   "nbconvert_exporter": "python",
   "pygments_lexer": "ipython3",
   "version": "3.7.13"
  }
 },
 "nbformat": 4,
 "nbformat_minor": 5
}
