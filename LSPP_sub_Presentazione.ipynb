{
 "cells": [
  {
   "cell_type": "markdown",
   "id": "f43e9a4e-e842-4435-be0d-eabb80ed349d",
   "metadata": {},
   "source": [
    "# Curve di possibilità pluviometrica - dati sub-orari"
   ]
  },
  {
   "cell_type": "markdown",
   "id": "91a5cdfc-0c5c-4750-a70a-c194472d01af",
   "metadata": {},
   "source": [
    "Il seguente notebook permette di ottenere le curve di possibilità pluviometrica per degli assegnati tempi di ritorno dalla distribuzione di probabilità precedentemente ottenuta.\n",
    "Le curve di possibilità pluviometrica si calcolano come di seguito:"
   ]
  },
  {
   "cell_type": "markdown",
   "id": "bd0d612a-f3a5-411f-8b07-11aca804e608",
   "metadata": {},
   "source": [
    "$$ h(t_p, Tr) = a(T_r) t_p^n$$"
   ]
  },
  {
   "cell_type": "markdown",
   "id": "a4142548-0160-42e2-bbc5-0327e9866ac4",
   "metadata": {},
   "source": [
    "$$\\log h(t_p, Tr) = \\log a(T_r) + n \\log t_p $$"
   ]
  },
  {
   "cell_type": "code",
   "execution_count": 1,
   "id": "68382624-0874-4209-8008-ab8327ee21da",
   "metadata": {},
   "outputs": [],
   "source": [
    "import os\n",
    "import math\n",
    "from pandas import *\n",
    "import pandas as pd\n",
    "from datetime import datetime\n",
    "%matplotlib inline \n",
    "import matplotlib.pyplot as plt\n",
    "from statsmodels.distributions.empirical_distribution import ECDF\n",
    "from scipy.stats import norm\n",
    "from scipy.stats import genextreme,gumbel_r\n",
    "from numpy import linspace\n",
    "from pylab import plot,show,hist,figure,title\n",
    "from my_functions import*\n",
    "\n",
    "os.getcwd()\n",
    "data=leggi_giornaliere('MORI_massimi di precipitazione.xls')"
   ]
  },
  {
   "cell_type": "code",
   "execution_count": 2,
   "id": "ba16dbd2-8752-4466-8c13-6820e5c250a3",
   "metadata": {},
   "outputs": [
    {
     "data": {
      "text/html": [
       "<div>\n",
       "<style scoped>\n",
       "    .dataframe tbody tr th:only-of-type {\n",
       "        vertical-align: middle;\n",
       "    }\n",
       "\n",
       "    .dataframe tbody tr th {\n",
       "        vertical-align: top;\n",
       "    }\n",
       "\n",
       "    .dataframe thead th {\n",
       "        text-align: right;\n",
       "    }\n",
       "</style>\n",
       "<table border=\"1\" class=\"dataframe\">\n",
       "  <thead>\n",
       "    <tr style=\"text-align: right;\">\n",
       "      <th></th>\n",
       "      <th>1 giorno</th>\n",
       "      <th>2 giorni</th>\n",
       "      <th>3 giorni</th>\n",
       "      <th>4 giorni</th>\n",
       "      <th>5 giorni</th>\n",
       "    </tr>\n",
       "    <tr>\n",
       "      <th>anno</th>\n",
       "      <th></th>\n",
       "      <th></th>\n",
       "      <th></th>\n",
       "      <th></th>\n",
       "      <th></th>\n",
       "    </tr>\n",
       "  </thead>\n",
       "  <tbody>\n",
       "    <tr>\n",
       "      <th>1919.0</th>\n",
       "      <td>NaN</td>\n",
       "      <td>NaN</td>\n",
       "      <td>NaN</td>\n",
       "      <td>NaN</td>\n",
       "      <td>NaN</td>\n",
       "    </tr>\n",
       "    <tr>\n",
       "      <th>1920.0</th>\n",
       "      <td>NaN</td>\n",
       "      <td>NaN</td>\n",
       "      <td>NaN</td>\n",
       "      <td>NaN</td>\n",
       "      <td>NaN</td>\n",
       "    </tr>\n",
       "    <tr>\n",
       "      <th>1921.0</th>\n",
       "      <td>NaN</td>\n",
       "      <td>NaN</td>\n",
       "      <td>NaN</td>\n",
       "      <td>NaN</td>\n",
       "      <td>NaN</td>\n",
       "    </tr>\n",
       "    <tr>\n",
       "      <th>1922.0</th>\n",
       "      <td>NaN</td>\n",
       "      <td>NaN</td>\n",
       "      <td>NaN</td>\n",
       "      <td>NaN</td>\n",
       "      <td>NaN</td>\n",
       "    </tr>\n",
       "    <tr>\n",
       "      <th>1923.0</th>\n",
       "      <td>NaN</td>\n",
       "      <td>NaN</td>\n",
       "      <td>NaN</td>\n",
       "      <td>NaN</td>\n",
       "      <td>NaN</td>\n",
       "    </tr>\n",
       "    <tr>\n",
       "      <th>...</th>\n",
       "      <td>...</td>\n",
       "      <td>...</td>\n",
       "      <td>...</td>\n",
       "      <td>...</td>\n",
       "      <td>...</td>\n",
       "    </tr>\n",
       "    <tr>\n",
       "      <th>2006.0</th>\n",
       "      <td>49.2</td>\n",
       "      <td>62</td>\n",
       "      <td>75.2</td>\n",
       "      <td>76.4</td>\n",
       "      <td>76.4</td>\n",
       "    </tr>\n",
       "    <tr>\n",
       "      <th>2007.0</th>\n",
       "      <td>106.4</td>\n",
       "      <td>150.2</td>\n",
       "      <td>179.4</td>\n",
       "      <td>182.2</td>\n",
       "      <td>182.2</td>\n",
       "    </tr>\n",
       "    <tr>\n",
       "      <th>2008.0</th>\n",
       "      <td>NaN</td>\n",
       "      <td>NaN</td>\n",
       "      <td>NaN</td>\n",
       "      <td>NaN</td>\n",
       "      <td>NaN</td>\n",
       "    </tr>\n",
       "    <tr>\n",
       "      <th>2009.0</th>\n",
       "      <td>NaN</td>\n",
       "      <td>NaN</td>\n",
       "      <td>NaN</td>\n",
       "      <td>NaN</td>\n",
       "      <td>NaN</td>\n",
       "    </tr>\n",
       "    <tr>\n",
       "      <th>2010.0</th>\n",
       "      <td>NaN</td>\n",
       "      <td>NaN</td>\n",
       "      <td>NaN</td>\n",
       "      <td>NaN</td>\n",
       "      <td>NaN</td>\n",
       "    </tr>\n",
       "  </tbody>\n",
       "</table>\n",
       "<p>92 rows × 5 columns</p>\n",
       "</div>"
      ],
      "text/plain": [
       "       1 giorno 2 giorni 3 giorni 4 giorni 5 giorni\n",
       "anno                                               \n",
       "1919.0      NaN      NaN      NaN      NaN      NaN\n",
       "1920.0      NaN      NaN      NaN      NaN      NaN\n",
       "1921.0      NaN      NaN      NaN      NaN      NaN\n",
       "1922.0      NaN      NaN      NaN      NaN      NaN\n",
       "1923.0      NaN      NaN      NaN      NaN      NaN\n",
       "...         ...      ...      ...      ...      ...\n",
       "2006.0     49.2       62     75.2     76.4     76.4\n",
       "2007.0    106.4    150.2    179.4    182.2    182.2\n",
       "2008.0      NaN      NaN      NaN      NaN      NaN\n",
       "2009.0      NaN      NaN      NaN      NaN      NaN\n",
       "2010.0      NaN      NaN      NaN      NaN      NaN\n",
       "\n",
       "[92 rows x 5 columns]"
      ]
     },
     "execution_count": 2,
     "metadata": {},
     "output_type": "execute_result"
    }
   ],
   "source": [
    "data"
   ]
  },
  {
   "cell_type": "code",
   "execution_count": 3,
   "id": "6adff96a-7dea-47b3-a480-8c343bd3193e",
   "metadata": {},
   "outputs": [
    {
     "data": {
      "text/html": [
       "<div>\n",
       "<style scoped>\n",
       "    .dataframe tbody tr th:only-of-type {\n",
       "        vertical-align: middle;\n",
       "    }\n",
       "\n",
       "    .dataframe tbody tr th {\n",
       "        vertical-align: top;\n",
       "    }\n",
       "\n",
       "    .dataframe thead th {\n",
       "        text-align: right;\n",
       "    }\n",
       "</style>\n",
       "<table border=\"1\" class=\"dataframe\">\n",
       "  <thead>\n",
       "    <tr style=\"text-align: right;\">\n",
       "      <th></th>\n",
       "      <th>15 min</th>\n",
       "      <th>30 min</th>\n",
       "      <th>45 min</th>\n",
       "      <th>1 ora</th>\n",
       "    </tr>\n",
       "  </thead>\n",
       "  <tbody>\n",
       "    <tr>\n",
       "      <th>a</th>\n",
       "      <td>11.843503</td>\n",
       "      <td>15.492341</td>\n",
       "      <td>17.581733</td>\n",
       "      <td>19.345627</td>\n",
       "    </tr>\n",
       "    <tr>\n",
       "      <th>b</th>\n",
       "      <td>3.298360</td>\n",
       "      <td>4.588751</td>\n",
       "      <td>5.392597</td>\n",
       "      <td>5.101285</td>\n",
       "    </tr>\n",
       "  </tbody>\n",
       "</table>\n",
       "</div>"
      ],
      "text/plain": [
       "               15 min              30 min              45 min  \\\n",
       "a           11.843503           15.492341           17.581733   \n",
       "b            3.298360            4.588751            5.392597   \n",
       "\n",
       "               1 ora  \n",
       "a          19.345627  \n",
       "b           5.101285  "
      ]
     },
     "execution_count": 3,
     "metadata": {},
     "output_type": "execute_result"
    }
   ],
   "source": [
    "best=pd.read_pickle(\"best_param\")\n",
    "best"
   ]
  },
  {
   "cell_type": "code",
   "execution_count": 4,
   "id": "31199042-a6f3-4fcf-b274-161d2772cfad",
   "metadata": {},
   "outputs": [
    {
     "data": {
      "text/plain": [
       "Index(['            15 min', '            30 min', '            45 min',\n",
       "       '            1 ora'],\n",
       "      dtype='object')"
      ]
     },
     "execution_count": 4,
     "metadata": {},
     "output_type": "execute_result"
    }
   ],
   "source": [
    "best.columns"
   ]
  },
  {
   "cell_type": "code",
   "execution_count": 6,
   "id": "f974ea74-098a-48e9-90d9-b77638ad0452",
   "metadata": {},
   "outputs": [
    {
     "data": {
      "text/html": [
       "<div>\n",
       "<style scoped>\n",
       "    .dataframe tbody tr th:only-of-type {\n",
       "        vertical-align: middle;\n",
       "    }\n",
       "\n",
       "    .dataframe tbody tr th {\n",
       "        vertical-align: top;\n",
       "    }\n",
       "\n",
       "    .dataframe thead th {\n",
       "        text-align: right;\n",
       "    }\n",
       "</style>\n",
       "<table border=\"1\" class=\"dataframe\">\n",
       "  <thead>\n",
       "    <tr style=\"text-align: right;\">\n",
       "      <th></th>\n",
       "      <th>10</th>\n",
       "      <th>50</th>\n",
       "      <th>150</th>\n",
       "    </tr>\n",
       "  </thead>\n",
       "  <tbody>\n",
       "    <tr>\n",
       "      <th>1</th>\n",
       "      <td>19.266025</td>\n",
       "      <td>24.713502</td>\n",
       "      <td>28.359358</td>\n",
       "    </tr>\n",
       "    <tr>\n",
       "      <th>2</th>\n",
       "      <td>25.818716</td>\n",
       "      <td>33.397365</td>\n",
       "      <td>38.469559</td>\n",
       "    </tr>\n",
       "    <tr>\n",
       "      <th>3</th>\n",
       "      <td>29.717058</td>\n",
       "      <td>38.623317</td>\n",
       "      <td>44.584047</td>\n",
       "    </tr>\n",
       "    <tr>\n",
       "      <th>4</th>\n",
       "      <td>30.825392</td>\n",
       "      <td>39.250529</td>\n",
       "      <td>44.889255</td>\n",
       "    </tr>\n",
       "  </tbody>\n",
       "</table>\n",
       "</div>"
      ],
      "text/plain": [
       "         10         50         150\n",
       "1  19.266025  24.713502  28.359358\n",
       "2  25.818716  33.397365  38.469559\n",
       "3  29.717058  38.623317  44.584047\n",
       "4  30.825392  39.250529  44.889255"
      ]
     },
     "execution_count": 6,
     "metadata": {},
     "output_type": "execute_result"
    }
   ],
   "source": [
    "q10=1-1/10\n",
    "q50=1-1/50\n",
    "q150=1-1/150\n",
    "pts=DataFrame([[qtls(best[\"            15 min\"],q10),\n",
    "           qtls(best[\"            30 min\"],q10),\n",
    "           qtls(best[\"            45 min\"],q10),\n",
    "           qtls(best[\"            1 ora\"],q10)],\n",
    "          [qtls(best[\"            15 min\"],q50),\n",
    "           qtls(best[\"            30 min\"],q50),\n",
    "           qtls(best[\"            45 min\"],q50),\n",
    "           qtls(best[\"            1 ora\"],q50)],\n",
    "          [qtls(best[\"            15 min\"],q150),\n",
    "           qtls(best[\"            30 min\"],q150),\n",
    "           qtls(best[\"            45 min\"],q150),\n",
    "           qtls(best[\"            1 ora\"],q150)]], index=[10,50,150],columns=[1,2,3,4]).T\n",
    "pts"
   ]
  },
  {
   "cell_type": "code",
   "execution_count": 7,
   "id": "472764eb-c254-4bea-8574-252ce1e27c86",
   "metadata": {},
   "outputs": [
    {
     "data": {
      "image/png": "[encoded data removed]",
      "text/plain": [
       "<Figure size 432x288 with 1 Axes>"
      ]
     },
     "metadata": {
      "needs_background": "light"
     },
     "output_type": "display_data"
    }
   ],
   "source": [
    "plot1_sub(pts)"
   ]
  },
  {
   "cell_type": "code",
   "execution_count": 8,
   "id": "3d9119d9-8ea3-4406-857d-93dfe227858e",
   "metadata": {},
   "outputs": [
    {
     "data": {
      "image/png": "[encoded data removed]",
      "text/plain": [
       "<Figure size 432x288 with 1 Axes>"
      ]
     },
     "metadata": {
      "needs_background": "light"
     },
     "output_type": "display_data"
    }
   ],
   "source": [
    "plot2_sub(pts)"
   ]
  },
  {
   "cell_type": "code",
   "execution_count": 9,
   "id": "6272fad0-ea0b-472a-bf60-8bdd18dd296d",
   "metadata": {},
   "outputs": [
    {
     "data": {
      "text/html": [
       "<div>\n",
       "<style scoped>\n",
       "    .dataframe tbody tr th:only-of-type {\n",
       "        vertical-align: middle;\n",
       "    }\n",
       "\n",
       "    .dataframe tbody tr th {\n",
       "        vertical-align: top;\n",
       "    }\n",
       "\n",
       "    .dataframe thead th {\n",
       "        text-align: right;\n",
       "    }\n",
       "</style>\n",
       "<table border=\"1\" class=\"dataframe\">\n",
       "  <thead>\n",
       "    <tr style=\"text-align: right;\">\n",
       "      <th></th>\n",
       "      <th>n</th>\n",
       "      <th>a</th>\n",
       "    </tr>\n",
       "  </thead>\n",
       "  <tbody>\n",
       "    <tr>\n",
       "      <th>10</th>\n",
       "      <td>0.350716</td>\n",
       "      <td>19.662778</td>\n",
       "    </tr>\n",
       "    <tr>\n",
       "      <th>50</th>\n",
       "      <td>0.349587</td>\n",
       "      <td>25.334331</td>\n",
       "    </tr>\n",
       "    <tr>\n",
       "      <th>150</th>\n",
       "      <td>0.349050</td>\n",
       "      <td>29.130178</td>\n",
       "    </tr>\n",
       "  </tbody>\n",
       "</table>\n",
       "</div>"
      ],
      "text/plain": [
       "            n          a\n",
       "10   0.350716  19.662778\n",
       "50   0.349587  25.334331\n",
       "150  0.349050  29.130178"
      ]
     },
     "execution_count": 9,
     "metadata": {},
     "output_type": "execute_result"
    }
   ],
   "source": [
    "in10, in50, in150 = n_a(pts)\n",
    "fnl=DataFrame([in10,in50,in150],index=[10,50,150],columns=[\"n\",\"a\"])\n",
    "fnl"
   ]
  },
  {
   "cell_type": "code",
   "execution_count": 10,
   "id": "5f80f5cb-efee-40cd-9906-1eb75a158b08",
   "metadata": {},
   "outputs": [
    {
     "data": {
      "text/html": [
       "<div>\n",
       "<style scoped>\n",
       "    .dataframe tbody tr th:only-of-type {\n",
       "        vertical-align: middle;\n",
       "    }\n",
       "\n",
       "    .dataframe tbody tr th {\n",
       "        vertical-align: top;\n",
       "    }\n",
       "\n",
       "    .dataframe thead th {\n",
       "        text-align: right;\n",
       "    }\n",
       "</style>\n",
       "<table border=\"1\" class=\"dataframe\">\n",
       "  <thead>\n",
       "    <tr style=\"text-align: right;\">\n",
       "      <th></th>\n",
       "      <th>Tr = 10</th>\n",
       "      <th>Tr = 50</th>\n",
       "      <th>Tr = 150</th>\n",
       "    </tr>\n",
       "  </thead>\n",
       "  <tbody>\n",
       "    <tr>\n",
       "      <th>0.700000</th>\n",
       "      <td>17.350753</td>\n",
       "      <td>22.364426</td>\n",
       "      <td>25.720215</td>\n",
       "    </tr>\n",
       "    <tr>\n",
       "      <th>0.995960</th>\n",
       "      <td>19.634879</td>\n",
       "      <td>25.298500</td>\n",
       "      <td>29.089042</td>\n",
       "    </tr>\n",
       "    <tr>\n",
       "      <th>1.291919</th>\n",
       "      <td>21.510814</td>\n",
       "      <td>27.707406</td>\n",
       "      <td>31.854431</td>\n",
       "    </tr>\n",
       "    <tr>\n",
       "      <th>1.587879</th>\n",
       "      <td>23.124623</td>\n",
       "      <td>29.779168</td>\n",
       "      <td>34.232488</td>\n",
       "    </tr>\n",
       "    <tr>\n",
       "      <th>1.883838</th>\n",
       "      <td>24.553137</td>\n",
       "      <td>31.612665</td>\n",
       "      <td>36.336840</td>\n",
       "    </tr>\n",
       "  </tbody>\n",
       "</table>\n",
       "</div>"
      ],
      "text/plain": [
       "            Tr = 10    Tr = 50   Tr = 150\n",
       "0.700000  17.350753  22.364426  25.720215\n",
       "0.995960  19.634879  25.298500  29.089042\n",
       "1.291919  21.510814  27.707406  31.854431\n",
       "1.587879  23.124623  29.779168  34.232488\n",
       "1.883838  24.553137  31.612665  36.336840"
      ]
     },
     "execution_count": 10,
     "metadata": {},
     "output_type": "execute_result"
    }
   ],
   "source": [
    "h10, h50, h150, tp = h1(fnl)\n",
    "inh=DataFrame([h10,h50,h150],index=[\"Tr = 10\",\"Tr = 50\",\"Tr = 150\"],\n",
    "              columns=tp).T\n",
    "inh[:2]"
   ]
  },
  {
   "cell_type": "code",
   "execution_count": 11,
   "id": "b6e87d4d-6db1-402b-b17c-1a21d5d65847",
   "metadata": {},
   "outputs": [
    {
     "data": {
      "text/plain": [
       "(<AxesSubplot:title={'center':'Curve di possibilità pluviometrica'}, xlabel='Durata (giorni)', ylabel='Precipitazione (mm)'>,\n",
       " <AxesSubplot:title={'center':'Curve di possibilità pluviometrica - bilogaritmico'}, xlabel='Durata', ylabel='Precipitazione'>)"
      ]
     },
     "execution_count": 11,
     "metadata": {},
     "output_type": "execute_result"
    },
    {
     "data": {
      "image/png": "[encoded data removed]",
      "text/plain": [
       "<Figure size 432x288 with 1 Axes>"
      ]
     },
     "metadata": {
      "needs_background": "light"
     },
     "output_type": "display_data"
    },
    {
     "data": {
      "image/png": "[encoded data removed]",
      "text/plain": [
       "<Figure size 432x288 with 1 Axes>"
      ]
     },
     "metadata": {
      "needs_background": "light"
     },
     "output_type": "display_data"
    }
   ],
   "source": [
    "final_plots_sub(inh, pts)\n",
    "#plotplot(inh, pts)"
   ]
  },
  {
   "cell_type": "code",
   "execution_count": 12,
   "id": "42ba1c75-647b-4631-a676-87d69e7c3ea4",
   "metadata": {},
   "outputs": [],
   "source": [
    "#plotplot2(inh, pts)"
   ]
  }
 ],
 "metadata": {
  "kernelspec": {
   "display_name": "Python 3 (ipykernel)",
   "language": "python",
   "name": "python3"
  },
  "language_info": {
   "codemirror_mode": {
    "name": "ipython",
    "version": 3
   },
   "file_extension": ".py",
   "mimetype": "text/x-python",
   "name": "python",
   "nbconvert_exporter": "python",
   "pygments_lexer": "ipython3",
   "version": "3.7.13"
  }
 },
 "nbformat": 4,
 "nbformat_minor": 5
}
