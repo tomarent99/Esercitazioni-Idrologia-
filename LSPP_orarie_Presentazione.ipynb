{
 "cells": [
  {
   "cell_type": "markdown",
   "id": "f43e9a4e-e842-4435-be0d-eabb80ed349d",
   "metadata": {},
   "source": [
    "# Curve di possibilità pluviometrica - dati orari"
   ]
  },
  {
   "cell_type": "markdown",
   "id": "5d4933d9-a3f9-48c2-96ec-fc1e9cc37e3c",
   "metadata": {},
   "source": [
    "Il seguente notebook permette di ottenere le curve di possibilità pluviometrica per degli assegnati tempi di ritorno dalla distribuzione di probabilità precedentemente ottenuta.\n",
    "Le curve di possibilità pluviometrica si calcolano come di seguito:"
   ]
  },
  {
   "cell_type": "markdown",
   "id": "bd0d612a-f3a5-411f-8b07-11aca804e608",
   "metadata": {},
   "source": [
    "$$ h(t_p, Tr) = a(T_r) t_p^n$$"
   ]
  },
  {
   "cell_type": "markdown",
   "id": "a4142548-0160-42e2-bbc5-0327e9866ac4",
   "metadata": {},
   "source": [
    "$$\\log h(t_p, Tr) = \\log a(T_r) + n \\log t_p $$"
   ]
  },
  {
   "cell_type": "code",
   "execution_count": 1,
   "id": "68382624-0874-4209-8008-ab8327ee21da",
   "metadata": {},
   "outputs": [],
   "source": [
    "import os\n",
    "import math\n",
    "from pandas import *\n",
    "import pandas as pd\n",
    "from datetime import datetime\n",
    "%matplotlib inline \n",
    "import matplotlib.pyplot as plt\n",
    "from statsmodels.distributions.empirical_distribution import ECDF\n",
    "from scipy.stats import norm\n",
    "from scipy.stats import genextreme,gumbel_r\n",
    "from numpy import linspace\n",
    "from pylab import plot,show,hist,figure,title\n",
    "from my_functions import*\n",
    "\n",
    "os.getcwd()\n",
    "data=leggi_orarie('MORI_massimi di precipitazione.xls')"
   ]
  },
  {
   "cell_type": "code",
   "execution_count": 2,
   "id": "ba16dbd2-8752-4466-8c13-6820e5c250a3",
   "metadata": {},
   "outputs": [
    {
     "data": {
      "text/html": [
       "<div>\n",
       "<style scoped>\n",
       "    .dataframe tbody tr th:only-of-type {\n",
       "        vertical-align: middle;\n",
       "    }\n",
       "\n",
       "    .dataframe tbody tr th {\n",
       "        vertical-align: top;\n",
       "    }\n",
       "\n",
       "    .dataframe thead th {\n",
       "        text-align: right;\n",
       "    }\n",
       "</style>\n",
       "<table border=\"1\" class=\"dataframe\">\n",
       "  <thead>\n",
       "    <tr style=\"text-align: right;\">\n",
       "      <th></th>\n",
       "      <th>1 ora</th>\n",
       "      <th>3 ore</th>\n",
       "      <th>6 ore</th>\n",
       "      <th>12 ore</th>\n",
       "      <th>24 ore</th>\n",
       "    </tr>\n",
       "    <tr>\n",
       "      <th>anno</th>\n",
       "      <th></th>\n",
       "      <th></th>\n",
       "      <th></th>\n",
       "      <th></th>\n",
       "      <th></th>\n",
       "    </tr>\n",
       "  </thead>\n",
       "  <tbody>\n",
       "    <tr>\n",
       "      <th>1919.0</th>\n",
       "      <td>NaN</td>\n",
       "      <td>NaN</td>\n",
       "      <td>NaN</td>\n",
       "      <td>NaN</td>\n",
       "      <td>NaN</td>\n",
       "    </tr>\n",
       "    <tr>\n",
       "      <th>1920.0</th>\n",
       "      <td>NaN</td>\n",
       "      <td>NaN</td>\n",
       "      <td>NaN</td>\n",
       "      <td>NaN</td>\n",
       "      <td>NaN</td>\n",
       "    </tr>\n",
       "    <tr>\n",
       "      <th>1921.0</th>\n",
       "      <td>NaN</td>\n",
       "      <td>NaN</td>\n",
       "      <td>NaN</td>\n",
       "      <td>NaN</td>\n",
       "      <td>NaN</td>\n",
       "    </tr>\n",
       "    <tr>\n",
       "      <th>1922.0</th>\n",
       "      <td>NaN</td>\n",
       "      <td>NaN</td>\n",
       "      <td>NaN</td>\n",
       "      <td>NaN</td>\n",
       "      <td>NaN</td>\n",
       "    </tr>\n",
       "    <tr>\n",
       "      <th>1923.0</th>\n",
       "      <td>NaN</td>\n",
       "      <td>NaN</td>\n",
       "      <td>NaN</td>\n",
       "      <td>NaN</td>\n",
       "      <td>NaN</td>\n",
       "    </tr>\n",
       "    <tr>\n",
       "      <th>...</th>\n",
       "      <td>...</td>\n",
       "      <td>...</td>\n",
       "      <td>...</td>\n",
       "      <td>...</td>\n",
       "      <td>...</td>\n",
       "    </tr>\n",
       "    <tr>\n",
       "      <th>2006.0</th>\n",
       "      <td>29.2</td>\n",
       "      <td>29.6</td>\n",
       "      <td>43</td>\n",
       "      <td>56.4</td>\n",
       "      <td>62</td>\n",
       "    </tr>\n",
       "    <tr>\n",
       "      <th>2007.0</th>\n",
       "      <td>28.2</td>\n",
       "      <td>31.8</td>\n",
       "      <td>36.6</td>\n",
       "      <td>56</td>\n",
       "      <td>109.8</td>\n",
       "    </tr>\n",
       "    <tr>\n",
       "      <th>2008.0</th>\n",
       "      <td>NaN</td>\n",
       "      <td>NaN</td>\n",
       "      <td>NaN</td>\n",
       "      <td>NaN</td>\n",
       "      <td>NaN</td>\n",
       "    </tr>\n",
       "    <tr>\n",
       "      <th>2009.0</th>\n",
       "      <td>NaN</td>\n",
       "      <td>NaN</td>\n",
       "      <td>NaN</td>\n",
       "      <td>NaN</td>\n",
       "      <td>NaN</td>\n",
       "    </tr>\n",
       "    <tr>\n",
       "      <th>2010.0</th>\n",
       "      <td>NaN</td>\n",
       "      <td>NaN</td>\n",
       "      <td>NaN</td>\n",
       "      <td>NaN</td>\n",
       "      <td>NaN</td>\n",
       "    </tr>\n",
       "  </tbody>\n",
       "</table>\n",
       "<p>92 rows × 5 columns</p>\n",
       "</div>"
      ],
      "text/plain": [
       "                   1 ora             3 ore             6 ore  \\\n",
       "anno                                                           \n",
       "1919.0               NaN               NaN               NaN   \n",
       "1920.0               NaN               NaN               NaN   \n",
       "1921.0               NaN               NaN               NaN   \n",
       "1922.0               NaN               NaN               NaN   \n",
       "1923.0               NaN               NaN               NaN   \n",
       "...                  ...               ...               ...   \n",
       "2006.0              29.2              29.6                43   \n",
       "2007.0              28.2              31.8              36.6   \n",
       "2008.0               NaN               NaN               NaN   \n",
       "2009.0               NaN               NaN               NaN   \n",
       "2010.0               NaN               NaN               NaN   \n",
       "\n",
       "                   12 ore             24 ore  \n",
       "anno                                          \n",
       "1919.0                NaN                NaN  \n",
       "1920.0                NaN                NaN  \n",
       "1921.0                NaN                NaN  \n",
       "1922.0                NaN                NaN  \n",
       "1923.0                NaN                NaN  \n",
       "...                   ...                ...  \n",
       "2006.0               56.4                 62  \n",
       "2007.0                 56              109.8  \n",
       "2008.0                NaN                NaN  \n",
       "2009.0                NaN                NaN  \n",
       "2010.0                NaN                NaN  \n",
       "\n",
       "[92 rows x 5 columns]"
      ]
     },
     "execution_count": 2,
     "metadata": {},
     "output_type": "execute_result"
    }
   ],
   "source": [
    "data"
   ]
  },
  {
   "cell_type": "code",
   "execution_count": 3,
   "id": "6adff96a-7dea-47b3-a480-8c343bd3193e",
   "metadata": {},
   "outputs": [
    {
     "data": {
      "text/html": [
       "<div>\n",
       "<style scoped>\n",
       "    .dataframe tbody tr th:only-of-type {\n",
       "        vertical-align: middle;\n",
       "    }\n",
       "\n",
       "    .dataframe tbody tr th {\n",
       "        vertical-align: top;\n",
       "    }\n",
       "\n",
       "    .dataframe thead th {\n",
       "        text-align: right;\n",
       "    }\n",
       "</style>\n",
       "<table border=\"1\" class=\"dataframe\">\n",
       "  <thead>\n",
       "    <tr style=\"text-align: right;\">\n",
       "      <th></th>\n",
       "      <th>1 ora</th>\n",
       "      <th>3 ore</th>\n",
       "      <th>6 ore</th>\n",
       "      <th>12 ore</th>\n",
       "      <th>24 ore</th>\n",
       "    </tr>\n",
       "  </thead>\n",
       "  <tbody>\n",
       "    <tr>\n",
       "      <th>a</th>\n",
       "      <td>19.345627</td>\n",
       "      <td>29.008748</td>\n",
       "      <td>38.945067</td>\n",
       "      <td>49.890848</td>\n",
       "      <td>66.109911</td>\n",
       "    </tr>\n",
       "    <tr>\n",
       "      <th>b</th>\n",
       "      <td>5.101285</td>\n",
       "      <td>7.074121</td>\n",
       "      <td>9.238680</td>\n",
       "      <td>13.282743</td>\n",
       "      <td>15.744317</td>\n",
       "    </tr>\n",
       "  </tbody>\n",
       "</table>\n",
       "</div>"
      ],
      "text/plain": [
       "               1 ora              3 ore              6 ore  \\\n",
       "a          19.345627          29.008748          38.945067   \n",
       "b           5.101285           7.074121           9.238680   \n",
       "\n",
       "               12 ore              24 ore  \n",
       "a           49.890848           66.109911  \n",
       "b           13.282743           15.744317  "
      ]
     },
     "execution_count": 3,
     "metadata": {},
     "output_type": "execute_result"
    }
   ],
   "source": [
    "best=pd.read_pickle(\"best_param\")\n",
    "best"
   ]
  },
  {
   "cell_type": "code",
   "execution_count": 4,
   "id": "31199042-a6f3-4fcf-b274-161d2772cfad",
   "metadata": {},
   "outputs": [
    {
     "data": {
      "text/plain": [
       "Index(['            1 ora', '            3 ore', '            6 ore',\n",
       "       '            12 ore', '            24 ore'],\n",
       "      dtype='object')"
      ]
     },
     "execution_count": 4,
     "metadata": {},
     "output_type": "execute_result"
    }
   ],
   "source": [
    "best.columns"
   ]
  },
  {
   "cell_type": "code",
   "execution_count": 6,
   "id": "f974ea74-098a-48e9-90d9-b77638ad0452",
   "metadata": {},
   "outputs": [
    {
     "data": {
      "text/html": [
       "<div>\n",
       "<style scoped>\n",
       "    .dataframe tbody tr th:only-of-type {\n",
       "        vertical-align: middle;\n",
       "    }\n",
       "\n",
       "    .dataframe tbody tr th {\n",
       "        vertical-align: top;\n",
       "    }\n",
       "\n",
       "    .dataframe thead th {\n",
       "        text-align: right;\n",
       "    }\n",
       "</style>\n",
       "<table border=\"1\" class=\"dataframe\">\n",
       "  <thead>\n",
       "    <tr style=\"text-align: right;\">\n",
       "      <th></th>\n",
       "      <th>10</th>\n",
       "      <th>50</th>\n",
       "      <th>150</th>\n",
       "    </tr>\n",
       "  </thead>\n",
       "  <tbody>\n",
       "    <tr>\n",
       "      <th>1</th>\n",
       "      <td>30.825392</td>\n",
       "      <td>39.250529</td>\n",
       "      <td>44.889255</td>\n",
       "    </tr>\n",
       "    <tr>\n",
       "      <th>2</th>\n",
       "      <td>44.928120</td>\n",
       "      <td>56.611536</td>\n",
       "      <td>64.430945</td>\n",
       "    </tr>\n",
       "    <tr>\n",
       "      <th>3</th>\n",
       "      <td>59.735491</td>\n",
       "      <td>74.993830</td>\n",
       "      <td>85.205842</td>\n",
       "    </tr>\n",
       "    <tr>\n",
       "      <th>4</th>\n",
       "      <td>79.781898</td>\n",
       "      <td>101.719295</td>\n",
       "      <td>116.401428</td>\n",
       "    </tr>\n",
       "    <tr>\n",
       "      <th>5</th>\n",
       "      <td>101.540408</td>\n",
       "      <td>127.543270</td>\n",
       "      <td>144.946314</td>\n",
       "    </tr>\n",
       "  </tbody>\n",
       "</table>\n",
       "</div>"
      ],
      "text/plain": [
       "          10          50          150\n",
       "1   30.825392   39.250529   44.889255\n",
       "2   44.928120   56.611536   64.430945\n",
       "3   59.735491   74.993830   85.205842\n",
       "4   79.781898  101.719295  116.401428\n",
       "5  101.540408  127.543270  144.946314"
      ]
     },
     "execution_count": 6,
     "metadata": {},
     "output_type": "execute_result"
    }
   ],
   "source": [
    "q10=1-1/10\n",
    "q50=1-1/50\n",
    "q150=1-1/150\n",
    "pts=DataFrame([[qtls(best[\"            1 ora\"],q10),\n",
    "           qtls(best[\"            3 ore\"],q10),\n",
    "           qtls(best[\"            6 ore\"],q10),\n",
    "           qtls(best[\"            12 ore\"],q10),\n",
    "           qtls(best[\"            24 ore\"],q10)],\n",
    "          [qtls(best[\"            1 ora\"],q50),\n",
    "           qtls(best[\"            3 ore\"],q50),\n",
    "           qtls(best[\"            6 ore\"],q50),\n",
    "           qtls(best[\"            12 ore\"],q50),\n",
    "           qtls(best[\"            24 ore\"],q50)],\n",
    "          [qtls(best[\"            1 ora\"],q150),\n",
    "           qtls(best[\"            3 ore\"],q150),\n",
    "           qtls(best[\"            6 ore\"],q150),\n",
    "           qtls(best[\"            12 ore\"],q150),\n",
    "           qtls(best[\"            24 ore\"],q150)]], index=[10,50,150],columns=[1,2,3,4,5]).T\n",
    "pts"
   ]
  },
  {
   "cell_type": "code",
   "execution_count": 7,
   "id": "472764eb-c254-4bea-8574-252ce1e27c86",
   "metadata": {},
   "outputs": [
    {
     "data": {
      "image/png": "[encoded data removed]",
      "text/plain": [
       "<Figure size 432x288 with 1 Axes>"
      ]
     },
     "metadata": {
      "needs_background": "light"
     },
     "output_type": "display_data"
    }
   ],
   "source": [
    "plot1_orarie(pts)"
   ]
  },
  {
   "cell_type": "code",
   "execution_count": 8,
   "id": "3d9119d9-8ea3-4406-857d-93dfe227858e",
   "metadata": {},
   "outputs": [
    {
     "data": {
      "image/png": "[encoded data removed]",
      "text/plain": [
       "<Figure size 432x288 with 1 Axes>"
      ]
     },
     "metadata": {
      "needs_background": "light"
     },
     "output_type": "display_data"
    }
   ],
   "source": [
    "plot2_orarie(pts)"
   ]
  },
  {
   "cell_type": "code",
   "execution_count": 9,
   "id": "6272fad0-ea0b-472a-bf60-8bdd18dd296d",
   "metadata": {},
   "outputs": [
    {
     "data": {
      "text/html": [
       "<div>\n",
       "<style scoped>\n",
       "    .dataframe tbody tr th:only-of-type {\n",
       "        vertical-align: middle;\n",
       "    }\n",
       "\n",
       "    .dataframe tbody tr th {\n",
       "        vertical-align: top;\n",
       "    }\n",
       "\n",
       "    .dataframe thead th {\n",
       "        text-align: right;\n",
       "    }\n",
       "</style>\n",
       "<table border=\"1\" class=\"dataframe\">\n",
       "  <thead>\n",
       "    <tr style=\"text-align: right;\">\n",
       "      <th></th>\n",
       "      <th>n</th>\n",
       "      <th>a</th>\n",
       "    </tr>\n",
       "  </thead>\n",
       "  <tbody>\n",
       "    <tr>\n",
       "      <th>10</th>\n",
       "      <td>0.729641</td>\n",
       "      <td>28.962046</td>\n",
       "    </tr>\n",
       "    <tr>\n",
       "      <th>50</th>\n",
       "      <td>0.724964</td>\n",
       "      <td>36.770625</td>\n",
       "    </tr>\n",
       "    <tr>\n",
       "      <th>150</th>\n",
       "      <td>0.722789</td>\n",
       "      <td>41.996432</td>\n",
       "    </tr>\n",
       "  </tbody>\n",
       "</table>\n",
       "</div>"
      ],
      "text/plain": [
       "            n          a\n",
       "10   0.729641  28.962046\n",
       "50   0.724964  36.770625\n",
       "150  0.722789  41.996432"
      ]
     },
     "execution_count": 9,
     "metadata": {},
     "output_type": "execute_result"
    }
   ],
   "source": [
    "in10, in50, in150 = n_a(pts)\n",
    "fnl=DataFrame([in10,in50,in150],index=[10,50,150],columns=[\"n\",\"a\"])\n",
    "fnl"
   ]
  },
  {
   "cell_type": "code",
   "execution_count": 10,
   "id": "5f80f5cb-efee-40cd-9906-1eb75a158b08",
   "metadata": {},
   "outputs": [
    {
     "data": {
      "text/html": [
       "<div>\n",
       "<style scoped>\n",
       "    .dataframe tbody tr th:only-of-type {\n",
       "        vertical-align: middle;\n",
       "    }\n",
       "\n",
       "    .dataframe tbody tr th {\n",
       "        vertical-align: top;\n",
       "    }\n",
       "\n",
       "    .dataframe thead th {\n",
       "        text-align: right;\n",
       "    }\n",
       "</style>\n",
       "<table border=\"1\" class=\"dataframe\">\n",
       "  <thead>\n",
       "    <tr style=\"text-align: right;\">\n",
       "      <th></th>\n",
       "      <th>Tr = 10</th>\n",
       "      <th>Tr = 50</th>\n",
       "      <th>Tr = 150</th>\n",
       "    </tr>\n",
       "  </thead>\n",
       "  <tbody>\n",
       "    <tr>\n",
       "      <th>0.700000</th>\n",
       "      <td>22.325767</td>\n",
       "      <td>28.392436</td>\n",
       "      <td>32.452707</td>\n",
       "    </tr>\n",
       "    <tr>\n",
       "      <th>0.995960</th>\n",
       "      <td>28.876618</td>\n",
       "      <td>36.662859</td>\n",
       "      <td>41.873719</td>\n",
       "    </tr>\n",
       "    <tr>\n",
       "      <th>1.291919</th>\n",
       "      <td>34.913319</td>\n",
       "      <td>44.273377</td>\n",
       "      <td>50.537308</td>\n",
       "    </tr>\n",
       "    <tr>\n",
       "      <th>1.587879</th>\n",
       "      <td>40.583907</td>\n",
       "      <td>51.414591</td>\n",
       "      <td>58.662560</td>\n",
       "    </tr>\n",
       "    <tr>\n",
       "      <th>1.883838</th>\n",
       "      <td>45.974014</td>\n",
       "      <td>58.196623</td>\n",
       "      <td>66.375984</td>\n",
       "    </tr>\n",
       "  </tbody>\n",
       "</table>\n",
       "</div>"
      ],
      "text/plain": [
       "            Tr = 10    Tr = 50   Tr = 150\n",
       "0.700000  22.325767  28.392436  32.452707\n",
       "0.995960  28.876618  36.662859  41.873719\n",
       "1.291919  34.913319  44.273377  50.537308\n",
       "1.587879  40.583907  51.414591  58.662560\n",
       "1.883838  45.974014  58.196623  66.375984"
      ]
     },
     "execution_count": 10,
     "metadata": {},
     "output_type": "execute_result"
    }
   ],
   "source": [
    "h10, h50, h150, tp = h1(fnl)\n",
    "inh=DataFrame([h10,h50,h150],index=[\"Tr = 10\",\"Tr = 50\",\"Tr = 150\"],\n",
    "              columns=tp).T\n",
    "inh[:2]"
   ]
  },
  {
   "cell_type": "code",
   "execution_count": 11,
   "id": "b6e87d4d-6db1-402b-b17c-1a21d5d65847",
   "metadata": {},
   "outputs": [
    {
     "data": {
      "text/plain": [
       "(<AxesSubplot:title={'center':'Curve di possibilità pluviometrica'}, xlabel='Durata (giorni)', ylabel='Precipitazione (mm)'>,\n",
       " <AxesSubplot:title={'center':'Curve di possibilità pluviometrica - bilogaritmico'}, xlabel='Durata', ylabel='Precipitazione'>)"
      ]
     },
     "execution_count": 11,
     "metadata": {},
     "output_type": "execute_result"
    },
    {
     "data": {
      "image/png": "[encoded data removed]",
      "text/plain": [
       "<Figure size 432x288 with 1 Axes>"
      ]
     },
     "metadata": {
      "needs_background": "light"
     },
     "output_type": "display_data"
    },
    {
     "data": {
      "image/png": "[encoded data removed]",
      "text/plain": [
       "<Figure size 432x288 with 1 Axes>"
      ]
     },
     "metadata": {
      "needs_background": "light"
     },
     "output_type": "display_data"
    }
   ],
   "source": [
    "final_plots_orarie(inh, pts)\n",
    "#plotplot(inh, pts)"
   ]
  },
  {
   "cell_type": "code",
   "execution_count": 12,
   "id": "42ba1c75-647b-4631-a676-87d69e7c3ea4",
   "metadata": {},
   "outputs": [],
   "source": [
    "#plotplot2(inh, pts)"
   ]
  }
 ],
 "metadata": {
  "kernelspec": {
   "display_name": "Python 3 (ipykernel)",
   "language": "python",
   "name": "python3"
  },
  "language_info": {
   "codemirror_mode": {
    "name": "ipython",
    "version": 3
   },
   "file_extension": ".py",
   "mimetype": "text/x-python",
   "name": "python",
   "nbconvert_exporter": "python",
   "pygments_lexer": "ipython3",
   "version": "3.7.13"
  }
 },
 "nbformat": 4,
 "nbformat_minor": 5
}
