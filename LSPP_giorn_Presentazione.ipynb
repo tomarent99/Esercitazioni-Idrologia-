{
 "cells": [
  {
   "cell_type": "markdown",
   "id": "1c23570b-3d27-47d7-a3c1-c9da460df7fa",
   "metadata": {},
   "source": [
    "# Curve di possibilità pluviometrica - dati giornalieri"
   ]
  },
  {
   "cell_type": "markdown",
   "id": "93d80e70-bc45-4494-8859-1ccf56a1d55e",
   "metadata": {},
   "source": [
    "Il seguente notebook permette di ottenere le curve di possibilità pluviometrica per degli assegnati tempi di ritorno dalla distribuzione di probabilità precedentemente ottenuta.\n",
    "Le curve di possibilità pluviometrica si calcolano come di seguito:"
   ]
  },
  {
   "cell_type": "markdown",
   "id": "bd0d612a-f3a5-411f-8b07-11aca804e608",
   "metadata": {},
   "source": [
    "$$ h(t_p, Tr) = a(T_r) t_p^n$$"
   ]
  },
  {
   "cell_type": "markdown",
   "id": "a4142548-0160-42e2-bbc5-0327e9866ac4",
   "metadata": {},
   "source": [
    "$$\\log h(t_p, Tr) = \\log a(T_r) + n \\log t_p $$"
   ]
  },
  {
   "cell_type": "code",
   "execution_count": 1,
   "id": "68382624-0874-4209-8008-ab8327ee21da",
   "metadata": {},
   "outputs": [],
   "source": [
    "import os\n",
    "import math\n",
    "from pandas import *\n",
    "import pandas as pd\n",
    "from datetime import datetime\n",
    "%matplotlib inline \n",
    "import matplotlib.pyplot as plt\n",
    "from statsmodels.distributions.empirical_distribution import ECDF\n",
    "from scipy.stats import norm\n",
    "from scipy.stats import genextreme,gumbel_r\n",
    "from numpy import linspace\n",
    "from pylab import plot,show,hist,figure,title\n",
    "from my_functions import*\n",
    "\n",
    "os.getcwd()\n",
    "data=leggi_giornaliere('MORI_massimi di precipitazione.xls')"
   ]
  },
  {
   "cell_type": "code",
   "execution_count": 2,
   "id": "ba16dbd2-8752-4466-8c13-6820e5c250a3",
   "metadata": {},
   "outputs": [
    {
     "data": {
      "text/html": [
       "<div>\n",
       "<style scoped>\n",
       "    .dataframe tbody tr th:only-of-type {\n",
       "        vertical-align: middle;\n",
       "    }\n",
       "\n",
       "    .dataframe tbody tr th {\n",
       "        vertical-align: top;\n",
       "    }\n",
       "\n",
       "    .dataframe thead th {\n",
       "        text-align: right;\n",
       "    }\n",
       "</style>\n",
       "<table border=\"1\" class=\"dataframe\">\n",
       "  <thead>\n",
       "    <tr style=\"text-align: right;\">\n",
       "      <th></th>\n",
       "      <th>1 giorno</th>\n",
       "      <th>2 giorni</th>\n",
       "      <th>3 giorni</th>\n",
       "      <th>4 giorni</th>\n",
       "      <th>5 giorni</th>\n",
       "    </tr>\n",
       "    <tr>\n",
       "      <th>anno</th>\n",
       "      <th></th>\n",
       "      <th></th>\n",
       "      <th></th>\n",
       "      <th></th>\n",
       "      <th></th>\n",
       "    </tr>\n",
       "  </thead>\n",
       "  <tbody>\n",
       "    <tr>\n",
       "      <th>1919.0</th>\n",
       "      <td>NaN</td>\n",
       "      <td>NaN</td>\n",
       "      <td>NaN</td>\n",
       "      <td>NaN</td>\n",
       "      <td>NaN</td>\n",
       "    </tr>\n",
       "    <tr>\n",
       "      <th>1920.0</th>\n",
       "      <td>NaN</td>\n",
       "      <td>NaN</td>\n",
       "      <td>NaN</td>\n",
       "      <td>NaN</td>\n",
       "      <td>NaN</td>\n",
       "    </tr>\n",
       "    <tr>\n",
       "      <th>1921.0</th>\n",
       "      <td>NaN</td>\n",
       "      <td>NaN</td>\n",
       "      <td>NaN</td>\n",
       "      <td>NaN</td>\n",
       "      <td>NaN</td>\n",
       "    </tr>\n",
       "    <tr>\n",
       "      <th>1922.0</th>\n",
       "      <td>NaN</td>\n",
       "      <td>NaN</td>\n",
       "      <td>NaN</td>\n",
       "      <td>NaN</td>\n",
       "      <td>NaN</td>\n",
       "    </tr>\n",
       "    <tr>\n",
       "      <th>1923.0</th>\n",
       "      <td>NaN</td>\n",
       "      <td>NaN</td>\n",
       "      <td>NaN</td>\n",
       "      <td>NaN</td>\n",
       "      <td>NaN</td>\n",
       "    </tr>\n",
       "    <tr>\n",
       "      <th>...</th>\n",
       "      <td>...</td>\n",
       "      <td>...</td>\n",
       "      <td>...</td>\n",
       "      <td>...</td>\n",
       "      <td>...</td>\n",
       "    </tr>\n",
       "    <tr>\n",
       "      <th>2006.0</th>\n",
       "      <td>49.2</td>\n",
       "      <td>62</td>\n",
       "      <td>75.2</td>\n",
       "      <td>76.4</td>\n",
       "      <td>76.4</td>\n",
       "    </tr>\n",
       "    <tr>\n",
       "      <th>2007.0</th>\n",
       "      <td>106.4</td>\n",
       "      <td>150.2</td>\n",
       "      <td>179.4</td>\n",
       "      <td>182.2</td>\n",
       "      <td>182.2</td>\n",
       "    </tr>\n",
       "    <tr>\n",
       "      <th>2008.0</th>\n",
       "      <td>NaN</td>\n",
       "      <td>NaN</td>\n",
       "      <td>NaN</td>\n",
       "      <td>NaN</td>\n",
       "      <td>NaN</td>\n",
       "    </tr>\n",
       "    <tr>\n",
       "      <th>2009.0</th>\n",
       "      <td>NaN</td>\n",
       "      <td>NaN</td>\n",
       "      <td>NaN</td>\n",
       "      <td>NaN</td>\n",
       "      <td>NaN</td>\n",
       "    </tr>\n",
       "    <tr>\n",
       "      <th>2010.0</th>\n",
       "      <td>NaN</td>\n",
       "      <td>NaN</td>\n",
       "      <td>NaN</td>\n",
       "      <td>NaN</td>\n",
       "      <td>NaN</td>\n",
       "    </tr>\n",
       "  </tbody>\n",
       "</table>\n",
       "<p>92 rows × 5 columns</p>\n",
       "</div>"
      ],
      "text/plain": [
       "       1 giorno 2 giorni 3 giorni 4 giorni 5 giorni\n",
       "anno                                               \n",
       "1919.0      NaN      NaN      NaN      NaN      NaN\n",
       "1920.0      NaN      NaN      NaN      NaN      NaN\n",
       "1921.0      NaN      NaN      NaN      NaN      NaN\n",
       "1922.0      NaN      NaN      NaN      NaN      NaN\n",
       "1923.0      NaN      NaN      NaN      NaN      NaN\n",
       "...         ...      ...      ...      ...      ...\n",
       "2006.0     49.2       62     75.2     76.4     76.4\n",
       "2007.0    106.4    150.2    179.4    182.2    182.2\n",
       "2008.0      NaN      NaN      NaN      NaN      NaN\n",
       "2009.0      NaN      NaN      NaN      NaN      NaN\n",
       "2010.0      NaN      NaN      NaN      NaN      NaN\n",
       "\n",
       "[92 rows x 5 columns]"
      ]
     },
     "execution_count": 2,
     "metadata": {},
     "output_type": "execute_result"
    }
   ],
   "source": [
    "data"
   ]
  },
  {
   "cell_type": "code",
   "execution_count": 3,
   "id": "6adff96a-7dea-47b3-a480-8c343bd3193e",
   "metadata": {},
   "outputs": [
    {
     "data": {
      "text/html": [
       "<div>\n",
       "<style scoped>\n",
       "    .dataframe tbody tr th:only-of-type {\n",
       "        vertical-align: middle;\n",
       "    }\n",
       "\n",
       "    .dataframe tbody tr th {\n",
       "        vertical-align: top;\n",
       "    }\n",
       "\n",
       "    .dataframe thead th {\n",
       "        text-align: right;\n",
       "    }\n",
       "</style>\n",
       "<table border=\"1\" class=\"dataframe\">\n",
       "  <thead>\n",
       "    <tr style=\"text-align: right;\">\n",
       "      <th></th>\n",
       "      <th>1 giorno</th>\n",
       "      <th>2 giorni</th>\n",
       "      <th>3 giorni</th>\n",
       "      <th>4 giorni</th>\n",
       "      <th>5 giorni</th>\n",
       "    </tr>\n",
       "  </thead>\n",
       "  <tbody>\n",
       "    <tr>\n",
       "      <th>a</th>\n",
       "      <td>58.305148</td>\n",
       "      <td>80.471032</td>\n",
       "      <td>90.750149</td>\n",
       "      <td>103.428785</td>\n",
       "      <td>110.602875</td>\n",
       "    </tr>\n",
       "    <tr>\n",
       "      <th>b</th>\n",
       "      <td>15.439798</td>\n",
       "      <td>19.728481</td>\n",
       "      <td>20.115120</td>\n",
       "      <td>27.417951</td>\n",
       "      <td>27.582867</td>\n",
       "    </tr>\n",
       "  </tbody>\n",
       "</table>\n",
       "</div>"
      ],
      "text/plain": [
       "    1 giorno   2 giorni   3 giorni    4 giorni    5 giorni\n",
       "a  58.305148  80.471032  90.750149  103.428785  110.602875\n",
       "b  15.439798  19.728481  20.115120   27.417951   27.582867"
      ]
     },
     "execution_count": 3,
     "metadata": {},
     "output_type": "execute_result"
    }
   ],
   "source": [
    "best=pd.read_pickle(\"best_param\")\n",
    "best"
   ]
  },
  {
   "cell_type": "code",
   "execution_count": 5,
   "id": "f974ea74-098a-48e9-90d9-b77638ad0452",
   "metadata": {},
   "outputs": [
    {
     "data": {
      "text/html": [
       "<div>\n",
       "<style scoped>\n",
       "    .dataframe tbody tr th:only-of-type {\n",
       "        vertical-align: middle;\n",
       "    }\n",
       "\n",
       "    .dataframe tbody tr th {\n",
       "        vertical-align: top;\n",
       "    }\n",
       "\n",
       "    .dataframe thead th {\n",
       "        text-align: right;\n",
       "    }\n",
       "</style>\n",
       "<table border=\"1\" class=\"dataframe\">\n",
       "  <thead>\n",
       "    <tr style=\"text-align: right;\">\n",
       "      <th></th>\n",
       "      <th>10</th>\n",
       "      <th>50</th>\n",
       "      <th>150</th>\n",
       "    </tr>\n",
       "  </thead>\n",
       "  <tbody>\n",
       "    <tr>\n",
       "      <th>1</th>\n",
       "      <td>93.050365</td>\n",
       "      <td>118.550292</td>\n",
       "      <td>135.616734</td>\n",
       "    </tr>\n",
       "    <tr>\n",
       "      <th>2</th>\n",
       "      <td>124.867361</td>\n",
       "      <td>157.450355</td>\n",
       "      <td>179.257310</td>\n",
       "    </tr>\n",
       "    <tr>\n",
       "      <th>3</th>\n",
       "      <td>136.016558</td>\n",
       "      <td>169.238115</td>\n",
       "      <td>191.472444</td>\n",
       "    </tr>\n",
       "    <tr>\n",
       "      <th>4</th>\n",
       "      <td>165.129247</td>\n",
       "      <td>210.411949</td>\n",
       "      <td>240.718492</td>\n",
       "    </tr>\n",
       "    <tr>\n",
       "      <th>5</th>\n",
       "      <td>172.674457</td>\n",
       "      <td>218.229529</td>\n",
       "      <td>248.718362</td>\n",
       "    </tr>\n",
       "  </tbody>\n",
       "</table>\n",
       "</div>"
      ],
      "text/plain": [
       "          10          50          150\n",
       "1   93.050365  118.550292  135.616734\n",
       "2  124.867361  157.450355  179.257310\n",
       "3  136.016558  169.238115  191.472444\n",
       "4  165.129247  210.411949  240.718492\n",
       "5  172.674457  218.229529  248.718362"
      ]
     },
     "execution_count": 5,
     "metadata": {},
     "output_type": "execute_result"
    }
   ],
   "source": [
    "q10=1-1/10\n",
    "q50=1-1/50\n",
    "q150=1-1/150\n",
    "pts=DataFrame([[qtls(best[\"1 giorno\"],q10),\n",
    "           qtls(best[\"2 giorni\"],q10),\n",
    "           qtls(best[\"3 giorni\"],q10),\n",
    "           qtls(best[\"4 giorni\"],q10),\n",
    "           qtls(best[\"5 giorni\"],q10)],\n",
    "          [qtls(best[\"1 giorno\"],q50),\n",
    "           qtls(best[\"2 giorni\"],q50),\n",
    "           qtls(best[\"3 giorni\"],q50),\n",
    "           qtls(best[\"4 giorni\"],q50),\n",
    "           qtls(best[\"5 giorni\"],q50)],\n",
    "          [qtls(best[\"1 giorno\"],q150),\n",
    "           qtls(best[\"2 giorni\"],q150),\n",
    "           qtls(best[\"3 giorni\"],q150),\n",
    "           qtls(best[\"4 giorni\"],q150),\n",
    "           qtls(best[\"5 giorni\"],q150)]], index=[10,50,150],columns=[1,2,3,4,5]).T\n",
    "pts"
   ]
  },
  {
   "cell_type": "code",
   "execution_count": 6,
   "id": "472764eb-c254-4bea-8574-252ce1e27c86",
   "metadata": {},
   "outputs": [
    {
     "data": {
      "image/png": "[encoded data removed]",
      "text/plain": [
       "<Figure size 432x288 with 1 Axes>"
      ]
     },
     "metadata": {
      "needs_background": "light"
     },
     "output_type": "display_data"
    }
   ],
   "source": [
    "plot1(pts)"
   ]
  },
  {
   "cell_type": "code",
   "execution_count": 7,
   "id": "3d9119d9-8ea3-4406-857d-93dfe227858e",
   "metadata": {},
   "outputs": [
    {
     "data": {
      "image/png": "[encoded data removed]",
      "text/plain": [
       "<Figure size 432x288 with 1 Axes>"
      ]
     },
     "metadata": {
      "needs_background": "light"
     },
     "output_type": "display_data"
    }
   ],
   "source": [
    "plot2(pts)"
   ]
  },
  {
   "cell_type": "code",
   "execution_count": 8,
   "id": "6272fad0-ea0b-472a-bf60-8bdd18dd296d",
   "metadata": {},
   "outputs": [
    {
     "data": {
      "text/html": [
       "<div>\n",
       "<style scoped>\n",
       "    .dataframe tbody tr th:only-of-type {\n",
       "        vertical-align: middle;\n",
       "    }\n",
       "\n",
       "    .dataframe tbody tr th {\n",
       "        vertical-align: top;\n",
       "    }\n",
       "\n",
       "    .dataframe thead th {\n",
       "        text-align: right;\n",
       "    }\n",
       "</style>\n",
       "<table border=\"1\" class=\"dataframe\">\n",
       "  <thead>\n",
       "    <tr style=\"text-align: right;\">\n",
       "      <th></th>\n",
       "      <th>n</th>\n",
       "      <th>a</th>\n",
       "    </tr>\n",
       "  </thead>\n",
       "  <tbody>\n",
       "    <tr>\n",
       "      <th>10</th>\n",
       "      <td>0.386786</td>\n",
       "      <td>93.308806</td>\n",
       "    </tr>\n",
       "    <tr>\n",
       "      <th>50</th>\n",
       "      <td>0.383197</td>\n",
       "      <td>118.292895</td>\n",
       "    </tr>\n",
       "    <tr>\n",
       "      <th>150</th>\n",
       "      <td>0.381529</td>\n",
       "      <td>135.011031</td>\n",
       "    </tr>\n",
       "  </tbody>\n",
       "</table>\n",
       "</div>"
      ],
      "text/plain": [
       "            n           a\n",
       "10   0.386786   93.308806\n",
       "50   0.383197  118.292895\n",
       "150  0.381529  135.011031"
      ]
     },
     "execution_count": 8,
     "metadata": {},
     "output_type": "execute_result"
    }
   ],
   "source": [
    "in10, in50, in150 = n_a(pts)\n",
    "fnl=DataFrame([in10,in50,in150],index=[10,50,150],columns=[\"n\",\"a\"])\n",
    "fnl"
   ]
  },
  {
   "cell_type": "code",
   "execution_count": 9,
   "id": "5f80f5cb-efee-40cd-9906-1eb75a158b08",
   "metadata": {},
   "outputs": [
    {
     "data": {
      "text/html": [
       "<div>\n",
       "<style scoped>\n",
       "    .dataframe tbody tr th:only-of-type {\n",
       "        vertical-align: middle;\n",
       "    }\n",
       "\n",
       "    .dataframe tbody tr th {\n",
       "        vertical-align: top;\n",
       "    }\n",
       "\n",
       "    .dataframe thead th {\n",
       "        text-align: right;\n",
       "    }\n",
       "</style>\n",
       "<table border=\"1\" class=\"dataframe\">\n",
       "  <thead>\n",
       "    <tr style=\"text-align: right;\">\n",
       "      <th></th>\n",
       "      <th>Tr = 10</th>\n",
       "      <th>Tr = 50</th>\n",
       "      <th>Tr = 150</th>\n",
       "    </tr>\n",
       "  </thead>\n",
       "  <tbody>\n",
       "    <tr>\n",
       "      <th>0.700000</th>\n",
       "      <td>81.284691</td>\n",
       "      <td>103.181245</td>\n",
       "      <td>117.833750</td>\n",
       "    </tr>\n",
       "    <tr>\n",
       "      <th>0.995960</th>\n",
       "      <td>93.162805</td>\n",
       "      <td>118.109517</td>\n",
       "      <td>134.802647</td>\n",
       "    </tr>\n",
       "    <tr>\n",
       "      <th>1.291919</th>\n",
       "      <td>103.026011</td>\n",
       "      <td>130.491932</td>\n",
       "      <td>148.870532</td>\n",
       "    </tr>\n",
       "    <tr>\n",
       "      <th>1.587879</th>\n",
       "      <td>111.582459</td>\n",
       "      <td>141.224866</td>\n",
       "      <td>161.059687</td>\n",
       "    </tr>\n",
       "    <tr>\n",
       "      <th>1.883838</th>\n",
       "      <td>119.208055</td>\n",
       "      <td>150.783713</td>\n",
       "      <td>171.912049</td>\n",
       "    </tr>\n",
       "  </tbody>\n",
       "</table>\n",
       "</div>"
      ],
      "text/plain": [
       "             Tr = 10     Tr = 50    Tr = 150\n",
       "0.700000   81.284691  103.181245  117.833750\n",
       "0.995960   93.162805  118.109517  134.802647\n",
       "1.291919  103.026011  130.491932  148.870532\n",
       "1.587879  111.582459  141.224866  161.059687\n",
       "1.883838  119.208055  150.783713  171.912049"
      ]
     },
     "execution_count": 9,
     "metadata": {},
     "output_type": "execute_result"
    }
   ],
   "source": [
    "h10, h50, h150, tp = h1(fnl)\n",
    "inh=DataFrame([h10,h50,h150],index=[\"Tr = 10\",\"Tr = 50\",\"Tr = 150\"],\n",
    "              columns=tp).T\n",
    "inh[:2]"
   ]
  },
  {
   "cell_type": "code",
   "execution_count": 10,
   "id": "b6e87d4d-6db1-402b-b17c-1a21d5d65847",
   "metadata": {},
   "outputs": [
    {
     "data": {
      "text/plain": [
       "(None,\n",
       " <AxesSubplot:title={'center':'Curve di possibilità pluviometrica - bilogaritmico'}, xlabel='Durata', ylabel='Precipitazione'>)"
      ]
     },
     "execution_count": 10,
     "metadata": {},
     "output_type": "execute_result"
    },
    {
     "data": {
      "image/png": "[encoded data removed]",
      "text/plain": [
       "<Figure size 432x288 with 1 Axes>"
      ]
     },
     "metadata": {
      "needs_background": "light"
     },
     "output_type": "display_data"
    },
    {
     "data": {
      "image/png": "[encoded data removed]",
      "text/plain": [
       "<Figure size 432x288 with 1 Axes>"
      ]
     },
     "metadata": {
      "needs_background": "light"
     },
     "output_type": "display_data"
    }
   ],
   "source": [
    "final_plots(inh, pts)"
   ]
  },
  {
   "cell_type": "code",
   "execution_count": null,
   "id": "42ba1c75-647b-4631-a676-87d69e7c3ea4",
   "metadata": {},
   "outputs": [],
   "source": []
  }
 ],
 "metadata": {
  "kernelspec": {
   "display_name": "Python 3 (ipykernel)",
   "language": "python",
   "name": "python3"
  },
  "language_info": {
   "codemirror_mode": {
    "name": "ipython",
    "version": 3
   },
   "file_extension": ".py",
   "mimetype": "text/x-python",
   "name": "python",
   "nbconvert_exporter": "python",
   "pygments_lexer": "ipython3",
   "version": "3.7.13"
  }
 },
 "nbformat": 4,
 "nbformat_minor": 5
}
